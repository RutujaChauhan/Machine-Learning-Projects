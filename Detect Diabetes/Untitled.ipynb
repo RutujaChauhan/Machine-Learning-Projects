{
 "cells": [
  {
   "cell_type": "markdown",
   "id": "c700ea74",
   "metadata": {},
   "source": [
    "# End to End ML Workflow"
   ]
  },
  {
   "cell_type": "markdown",
   "id": "5b775ea0",
   "metadata": {},
   "source": [
    "Steps:\n",
    "1. Data acquisition\n",
    "2. Data sanity check\n",
    "3. EDA\n",
    "4. Data preprocessing\n",
    "5. Feature Engineering/Selection--RFE / Statistical methods (ANOVA or CHi-square)\n",
    "6. Modelling\n",
    "7. Model comparisons\n",
    "8. mODEL OPTIMIZATION\n",
    "8. Model Interpretation\n",
    "9. Model DEPLOYMENT"
   ]
  },
  {
   "cell_type": "code",
   "execution_count": 3,
   "id": "b7bf8805",
   "metadata": {},
   "outputs": [
    {
     "name": "stdout",
     "output_type": "stream",
     "text": [
      "All libraries are imported\n"
     ]
    }
   ],
   "source": [
    "# load the libraries \n",
    "import pandas as pd\n",
    "import numpy as np\n",
    "import matplotlib.pyplot as plt\n",
    "import seaborn as sns\n",
    "from sklearn.model_selection import train_test_split\n",
    "from sklearn.model_selection import GridSearchCV\n",
    "from sklearn import metrics\n",
    "import warnings\n",
    "import pycaret\n",
    "import shap\n",
    "warnings.filterwarnings('ignore')\n",
    "print(\"All libraries are imported\")"
   ]
  },
  {
   "cell_type": "code",
   "execution_count": 4,
   "id": "69b4dbbd",
   "metadata": {},
   "outputs": [],
   "source": [
    "#!pip install shap"
   ]
  },
  {
   "cell_type": "code",
   "execution_count": 5,
   "id": "f75e4ece",
   "metadata": {},
   "outputs": [
    {
     "data": {
      "text/html": [
       "<div>\n",
       "<style scoped>\n",
       "    .dataframe tbody tr th:only-of-type {\n",
       "        vertical-align: middle;\n",
       "    }\n",
       "\n",
       "    .dataframe tbody tr th {\n",
       "        vertical-align: top;\n",
       "    }\n",
       "\n",
       "    .dataframe thead th {\n",
       "        text-align: right;\n",
       "    }\n",
       "</style>\n",
       "<table border=\"1\" class=\"dataframe\">\n",
       "  <thead>\n",
       "    <tr style=\"text-align: right;\">\n",
       "      <th></th>\n",
       "      <th>Pregnancies</th>\n",
       "      <th>Glucose</th>\n",
       "      <th>BloodPressure</th>\n",
       "      <th>SkinThickness</th>\n",
       "      <th>Insulin</th>\n",
       "      <th>BMI</th>\n",
       "      <th>DiabetesPedigreeFunction</th>\n",
       "      <th>Age</th>\n",
       "      <th>Outcome</th>\n",
       "    </tr>\n",
       "  </thead>\n",
       "  <tbody>\n",
       "    <tr>\n",
       "      <th>0</th>\n",
       "      <td>6</td>\n",
       "      <td>148</td>\n",
       "      <td>72</td>\n",
       "      <td>35</td>\n",
       "      <td>0</td>\n",
       "      <td>33.6</td>\n",
       "      <td>0.627</td>\n",
       "      <td>50</td>\n",
       "      <td>1</td>\n",
       "    </tr>\n",
       "    <tr>\n",
       "      <th>1</th>\n",
       "      <td>1</td>\n",
       "      <td>85</td>\n",
       "      <td>66</td>\n",
       "      <td>29</td>\n",
       "      <td>0</td>\n",
       "      <td>26.6</td>\n",
       "      <td>0.351</td>\n",
       "      <td>31</td>\n",
       "      <td>0</td>\n",
       "    </tr>\n",
       "    <tr>\n",
       "      <th>2</th>\n",
       "      <td>8</td>\n",
       "      <td>183</td>\n",
       "      <td>64</td>\n",
       "      <td>0</td>\n",
       "      <td>0</td>\n",
       "      <td>23.3</td>\n",
       "      <td>0.672</td>\n",
       "      <td>32</td>\n",
       "      <td>1</td>\n",
       "    </tr>\n",
       "    <tr>\n",
       "      <th>3</th>\n",
       "      <td>1</td>\n",
       "      <td>89</td>\n",
       "      <td>66</td>\n",
       "      <td>23</td>\n",
       "      <td>94</td>\n",
       "      <td>28.1</td>\n",
       "      <td>0.167</td>\n",
       "      <td>21</td>\n",
       "      <td>0</td>\n",
       "    </tr>\n",
       "    <tr>\n",
       "      <th>4</th>\n",
       "      <td>0</td>\n",
       "      <td>137</td>\n",
       "      <td>40</td>\n",
       "      <td>35</td>\n",
       "      <td>168</td>\n",
       "      <td>43.1</td>\n",
       "      <td>2.288</td>\n",
       "      <td>33</td>\n",
       "      <td>1</td>\n",
       "    </tr>\n",
       "  </tbody>\n",
       "</table>\n",
       "</div>"
      ],
      "text/plain": [
       "   Pregnancies  Glucose  BloodPressure  SkinThickness  Insulin   BMI  \\\n",
       "0            6      148             72             35        0  33.6   \n",
       "1            1       85             66             29        0  26.6   \n",
       "2            8      183             64              0        0  23.3   \n",
       "3            1       89             66             23       94  28.1   \n",
       "4            0      137             40             35      168  43.1   \n",
       "\n",
       "   DiabetesPedigreeFunction  Age  Outcome  \n",
       "0                     0.627   50        1  \n",
       "1                     0.351   31        0  \n",
       "2                     0.672   32        1  \n",
       "3                     0.167   21        0  \n",
       "4                     2.288   33        1  "
      ]
     },
     "execution_count": 5,
     "metadata": {},
     "output_type": "execute_result"
    }
   ],
   "source": [
    "# get the data\n",
    "df=pd.read_csv('data/diabetes.csv')\n",
    "df.head()"
   ]
  },
  {
   "cell_type": "code",
   "execution_count": 6,
   "id": "ef1702e8",
   "metadata": {},
   "outputs": [
    {
     "data": {
      "text/plain": [
       "(768, 9)"
      ]
     },
     "execution_count": 6,
     "metadata": {},
     "output_type": "execute_result"
    }
   ],
   "source": [
    "df.shape"
   ]
  },
  {
   "cell_type": "code",
   "execution_count": 7,
   "id": "de12f4e6",
   "metadata": {},
   "outputs": [
    {
     "name": "stdout",
     "output_type": "stream",
     "text": [
      "<class 'pandas.core.frame.DataFrame'>\n",
      "RangeIndex: 768 entries, 0 to 767\n",
      "Data columns (total 9 columns):\n",
      " #   Column                    Non-Null Count  Dtype  \n",
      "---  ------                    --------------  -----  \n",
      " 0   Pregnancies               768 non-null    int64  \n",
      " 1   Glucose                   768 non-null    int64  \n",
      " 2   BloodPressure             768 non-null    int64  \n",
      " 3   SkinThickness             768 non-null    int64  \n",
      " 4   Insulin                   768 non-null    int64  \n",
      " 5   BMI                       768 non-null    float64\n",
      " 6   DiabetesPedigreeFunction  768 non-null    float64\n",
      " 7   Age                       768 non-null    int64  \n",
      " 8   Outcome                   768 non-null    int64  \n",
      "dtypes: float64(2), int64(7)\n",
      "memory usage: 54.1 KB\n"
     ]
    }
   ],
   "source": [
    "df.info()"
   ]
  },
  {
   "cell_type": "code",
   "execution_count": 8,
   "id": "02aac3dc",
   "metadata": {},
   "outputs": [
    {
     "data": {
      "text/html": [
       "<div>\n",
       "<style scoped>\n",
       "    .dataframe tbody tr th:only-of-type {\n",
       "        vertical-align: middle;\n",
       "    }\n",
       "\n",
       "    .dataframe tbody tr th {\n",
       "        vertical-align: top;\n",
       "    }\n",
       "\n",
       "    .dataframe thead th {\n",
       "        text-align: right;\n",
       "    }\n",
       "</style>\n",
       "<table border=\"1\" class=\"dataframe\">\n",
       "  <thead>\n",
       "    <tr style=\"text-align: right;\">\n",
       "      <th></th>\n",
       "      <th>count</th>\n",
       "      <th>mean</th>\n",
       "      <th>std</th>\n",
       "      <th>min</th>\n",
       "      <th>25%</th>\n",
       "      <th>50%</th>\n",
       "      <th>75%</th>\n",
       "      <th>max</th>\n",
       "    </tr>\n",
       "  </thead>\n",
       "  <tbody>\n",
       "    <tr>\n",
       "      <th>Pregnancies</th>\n",
       "      <td>768.0</td>\n",
       "      <td>3.845052</td>\n",
       "      <td>3.369578</td>\n",
       "      <td>0.000</td>\n",
       "      <td>1.00000</td>\n",
       "      <td>3.0000</td>\n",
       "      <td>6.00000</td>\n",
       "      <td>17.00</td>\n",
       "    </tr>\n",
       "    <tr>\n",
       "      <th>Glucose</th>\n",
       "      <td>768.0</td>\n",
       "      <td>120.894531</td>\n",
       "      <td>31.972618</td>\n",
       "      <td>0.000</td>\n",
       "      <td>99.00000</td>\n",
       "      <td>117.0000</td>\n",
       "      <td>140.25000</td>\n",
       "      <td>199.00</td>\n",
       "    </tr>\n",
       "    <tr>\n",
       "      <th>BloodPressure</th>\n",
       "      <td>768.0</td>\n",
       "      <td>69.105469</td>\n",
       "      <td>19.355807</td>\n",
       "      <td>0.000</td>\n",
       "      <td>62.00000</td>\n",
       "      <td>72.0000</td>\n",
       "      <td>80.00000</td>\n",
       "      <td>122.00</td>\n",
       "    </tr>\n",
       "    <tr>\n",
       "      <th>SkinThickness</th>\n",
       "      <td>768.0</td>\n",
       "      <td>20.536458</td>\n",
       "      <td>15.952218</td>\n",
       "      <td>0.000</td>\n",
       "      <td>0.00000</td>\n",
       "      <td>23.0000</td>\n",
       "      <td>32.00000</td>\n",
       "      <td>99.00</td>\n",
       "    </tr>\n",
       "    <tr>\n",
       "      <th>Insulin</th>\n",
       "      <td>768.0</td>\n",
       "      <td>79.799479</td>\n",
       "      <td>115.244002</td>\n",
       "      <td>0.000</td>\n",
       "      <td>0.00000</td>\n",
       "      <td>30.5000</td>\n",
       "      <td>127.25000</td>\n",
       "      <td>846.00</td>\n",
       "    </tr>\n",
       "    <tr>\n",
       "      <th>BMI</th>\n",
       "      <td>768.0</td>\n",
       "      <td>31.992578</td>\n",
       "      <td>7.884160</td>\n",
       "      <td>0.000</td>\n",
       "      <td>27.30000</td>\n",
       "      <td>32.0000</td>\n",
       "      <td>36.60000</td>\n",
       "      <td>67.10</td>\n",
       "    </tr>\n",
       "    <tr>\n",
       "      <th>DiabetesPedigreeFunction</th>\n",
       "      <td>768.0</td>\n",
       "      <td>0.471876</td>\n",
       "      <td>0.331329</td>\n",
       "      <td>0.078</td>\n",
       "      <td>0.24375</td>\n",
       "      <td>0.3725</td>\n",
       "      <td>0.62625</td>\n",
       "      <td>2.42</td>\n",
       "    </tr>\n",
       "    <tr>\n",
       "      <th>Age</th>\n",
       "      <td>768.0</td>\n",
       "      <td>33.240885</td>\n",
       "      <td>11.760232</td>\n",
       "      <td>21.000</td>\n",
       "      <td>24.00000</td>\n",
       "      <td>29.0000</td>\n",
       "      <td>41.00000</td>\n",
       "      <td>81.00</td>\n",
       "    </tr>\n",
       "    <tr>\n",
       "      <th>Outcome</th>\n",
       "      <td>768.0</td>\n",
       "      <td>0.348958</td>\n",
       "      <td>0.476951</td>\n",
       "      <td>0.000</td>\n",
       "      <td>0.00000</td>\n",
       "      <td>0.0000</td>\n",
       "      <td>1.00000</td>\n",
       "      <td>1.00</td>\n",
       "    </tr>\n",
       "  </tbody>\n",
       "</table>\n",
       "</div>"
      ],
      "text/plain": [
       "                          count        mean         std     min       25%  \\\n",
       "Pregnancies               768.0    3.845052    3.369578   0.000   1.00000   \n",
       "Glucose                   768.0  120.894531   31.972618   0.000  99.00000   \n",
       "BloodPressure             768.0   69.105469   19.355807   0.000  62.00000   \n",
       "SkinThickness             768.0   20.536458   15.952218   0.000   0.00000   \n",
       "Insulin                   768.0   79.799479  115.244002   0.000   0.00000   \n",
       "BMI                       768.0   31.992578    7.884160   0.000  27.30000   \n",
       "DiabetesPedigreeFunction  768.0    0.471876    0.331329   0.078   0.24375   \n",
       "Age                       768.0   33.240885   11.760232  21.000  24.00000   \n",
       "Outcome                   768.0    0.348958    0.476951   0.000   0.00000   \n",
       "\n",
       "                               50%        75%     max  \n",
       "Pregnancies                 3.0000    6.00000   17.00  \n",
       "Glucose                   117.0000  140.25000  199.00  \n",
       "BloodPressure              72.0000   80.00000  122.00  \n",
       "SkinThickness              23.0000   32.00000   99.00  \n",
       "Insulin                    30.5000  127.25000  846.00  \n",
       "BMI                        32.0000   36.60000   67.10  \n",
       "DiabetesPedigreeFunction    0.3725    0.62625    2.42  \n",
       "Age                        29.0000   41.00000   81.00  \n",
       "Outcome                     0.0000    1.00000    1.00  "
      ]
     },
     "execution_count": 8,
     "metadata": {},
     "output_type": "execute_result"
    }
   ],
   "source": [
    "df.describe().T"
   ]
  },
  {
   "cell_type": "code",
   "execution_count": 9,
   "id": "fba1d17a",
   "metadata": {},
   "outputs": [
    {
     "data": {
      "image/png": "[encoded data removed]",
      "text/plain": [
       "<Figure size 432x288 with 9 Axes>"
      ]
     },
     "metadata": {
      "needs_background": "light"
     },
     "output_type": "display_data"
    }
   ],
   "source": [
    "df.hist()\n",
    "plt.tight_layout()\n",
    "plt.show()"
   ]
  },
  {
   "cell_type": "code",
   "execution_count": 10,
   "id": "a17e7813",
   "metadata": {},
   "outputs": [
    {
     "data": {
      "text/plain": [
       "Index(['Pregnancies', 'Glucose', 'BloodPressure', 'SkinThickness', 'Insulin',\n",
       "       'BMI', 'DiabetesPedigreeFunction', 'Age', 'Outcome'],\n",
       "      dtype='object')"
      ]
     },
     "execution_count": 10,
     "metadata": {},
     "output_type": "execute_result"
    }
   ],
   "source": [
    "df.columns"
   ]
  },
  {
   "cell_type": "code",
   "execution_count": 11,
   "id": "803a4682",
   "metadata": {},
   "outputs": [],
   "source": [
    "df['Glucose']=df['Glucose'].replace(0,df['Glucose'].median() )\n",
    "df['BloodPressure']=df['BloodPressure'].replace(0,df['BloodPressure'].median() )\n",
    "df['SkinThickness']=df['SkinThickness'].replace(0,df['SkinThickness'].median() )\n",
    "df['Insulin']=df['Insulin'].replace(0,df['Insulin'].median() )\n",
    "df['BMI']=df['BMI'].replace(0,df['BMI'].median() )"
   ]
  },
  {
   "cell_type": "code",
   "execution_count": 12,
   "id": "7d765acf",
   "metadata": {},
   "outputs": [
    {
     "name": "stdout",
     "output_type": "stream",
     "text": [
      "Overwriting utils.py\n"
     ]
    }
   ],
   "source": [
    "%%writefile utils.py\n",
    "import pandas as pd\n",
    "import numpy as np\n",
    "import matplotlib.pyplot as plt\n",
    "import seaborn as sns\n",
    "from sklearn.model_selection import train_test_split\n",
    "from sklearn.model_selection import GridSearchCV\n",
    "from sklearn.ensemble import RandomForestClassifier\n",
    "from sklearn import metrics\n",
    "df=pd.read_csv(\"data/diabetes.csv\")\n",
    "\n",
    "# code to create distributions\n",
    "def distributions(df):\n",
    "    df.hist()\n",
    "    plt.tight_layout()\n",
    "    plt.show()\n",
    "    \n",
    "# create single distributions functions\n",
    "def histograms(df):\n",
    "    for col in df.select_dtypes(exclude='O').columns:\n",
    "        import seaborn as sns\n",
    "        print('Distribution of column', col)\n",
    "        sns.distplot(df[col])\n",
    "        plt.show()\n",
    "        print('*********************************************')\n",
    "        \n",
    "        \n",
    "# metrics evaluation\n",
    "def evaluate(df,y_pred, y_test, model_name):\n",
    "    print(\"Metrics for model\", model_name)\n",
    "    print(\"Accuracy score is \", metrics.accuracy_score(y_pred, y_test))\n",
    "    print('')\n",
    "    print(\"f1 score is \", metrics.f1_score(y_pred, y_test))\n",
    "    print('')\n",
    "    print(\"ROC-AUC score is \", metrics.roc_auc_score(y_pred, y_test))\n",
    "    print('')\n",
    "    print(\"Classification Report is \", metrics.classification_report(y_pred, y_test))\n",
    "    print('')"
   ]
  },
  {
   "cell_type": "code",
   "execution_count": 13,
   "id": "35843a2d",
   "metadata": {},
   "outputs": [
    {
     "data": {
      "image/png": "[encoded data removed]",
      "text/plain": [
       "<Figure size 432x288 with 9 Axes>"
      ]
     },
     "metadata": {
      "needs_background": "light"
     },
     "output_type": "display_data"
    }
   ],
   "source": [
    "import utils\n",
    "utils.distributions(df)"
   ]
  },
  {
   "cell_type": "code",
   "execution_count": 14,
   "id": "28933356",
   "metadata": {},
   "outputs": [
    {
     "name": "stdout",
     "output_type": "stream",
     "text": [
      "Distribution of column Pregnancies\n"
     ]
    },
    {
     "data": {
      "image/png": "[encoded data removed]",
      "text/plain": [
       "<Figure size 432x288 with 1 Axes>"
      ]
     },
     "metadata": {
      "needs_background": "light"
     },
     "output_type": "display_data"
    },
    {
     "name": "stdout",
     "output_type": "stream",
     "text": [
      "*********************************************\n",
      "Distribution of column Glucose\n"
     ]
    },
    {
     "data": {
      "image/png": "[encoded data removed]",
      "text/plain": [
       "<Figure size 432x288 with 1 Axes>"
      ]
     },
     "metadata": {
      "needs_background": "light"
     },
     "output_type": "display_data"
    },
    {
     "name": "stdout",
     "output_type": "stream",
     "text": [
      "*********************************************\n",
      "Distribution of column BloodPressure\n"
     ]
    },
    {
     "data": {
      "image/png": "[encoded data removed]",
      "text/plain": [
       "<Figure size 432x288 with 1 Axes>"
      ]
     },
     "metadata": {
      "needs_background": "light"
     },
     "output_type": "display_data"
    },
    {
     "name": "stdout",
     "output_type": "stream",
     "text": [
      "*********************************************\n",
      "Distribution of column SkinThickness\n"
     ]
    },
    {
     "data": {
      "image/png": "[encoded data removed]",
      "text/plain": [
       "<Figure size 432x288 with 1 Axes>"
      ]
     },
     "metadata": {
      "needs_background": "light"
     },
     "output_type": "display_data"
    },
    {
     "name": "stdout",
     "output_type": "stream",
     "text": [
      "*********************************************\n",
      "Distribution of column Insulin\n"
     ]
    },
    {
     "data": {
      "image/png": "[encoded data removed]",
      "text/plain": [
       "<Figure size 432x288 with 1 Axes>"
      ]
     },
     "metadata": {
      "needs_background": "light"
     },
     "output_type": "display_data"
    },
    {
     "name": "stdout",
     "output_type": "stream",
     "text": [
      "*********************************************\n",
      "Distribution of column BMI\n"
     ]
    },
    {
     "data": {
      "image/png": "[encoded data removed]",
      "text/plain": [
       "<Figure size 432x288 with 1 Axes>"
      ]
     },
     "metadata": {
      "needs_background": "light"
     },
     "output_type": "display_data"
    },
    {
     "name": "stdout",
     "output_type": "stream",
     "text": [
      "*********************************************\n",
      "Distribution of column DiabetesPedigreeFunction\n"
     ]
    },
    {
     "data": {
      "image/png": "[encoded data removed]",
      "text/plain": [
       "<Figure size 432x288 with 1 Axes>"
      ]
     },
     "metadata": {
      "needs_background": "light"
     },
     "output_type": "display_data"
    },
    {
     "name": "stdout",
     "output_type": "stream",
     "text": [
      "*********************************************\n",
      "Distribution of column Age\n"
     ]
    },
    {
     "data": {
      "image/png": "[encoded data removed]",
      "text/plain": [
       "<Figure size 432x288 with 1 Axes>"
      ]
     },
     "metadata": {
      "needs_background": "light"
     },
     "output_type": "display_data"
    },
    {
     "name": "stdout",
     "output_type": "stream",
     "text": [
      "*********************************************\n",
      "Distribution of column Outcome\n"
     ]
    },
    {
     "data": {
      "image/png": "[encoded data removed]",
      "text/plain": [
       "<Figure size 432x288 with 1 Axes>"
      ]
     },
     "metadata": {
      "needs_background": "light"
     },
     "output_type": "display_data"
    },
    {
     "name": "stdout",
     "output_type": "stream",
     "text": [
      "*********************************************\n"
     ]
    }
   ],
   "source": [
    "utils.histograms(df)"
   ]
  },
  {
   "cell_type": "code",
   "execution_count": 17,
   "id": "5e2762dd",
   "metadata": {},
   "outputs": [
    {
     "name": "stdout",
     "output_type": "stream",
     "text": [
      "Metrics for model Random Forest\n",
      "Accuracy score is  0.7708333333333334\n",
      "\n",
      "f1 score is  0.6393442622950819\n",
      "\n",
      "ROC-AUC score is  0.7688777638715061\n",
      "\n",
      "Classification Report is                precision    recall  f1-score   support\n",
      "\n",
      "           0       0.90      0.77      0.83       141\n",
      "           1       0.55      0.76      0.64        51\n",
      "\n",
      "    accuracy                           0.77       192\n",
      "   macro avg       0.73      0.77      0.74       192\n",
      "weighted avg       0.81      0.77      0.78       192\n",
      "\n",
      "\n"
     ]
    }
   ],
   "source": [
    "#Modelling \n",
    "X=df.drop('Outcome', axis=1)\n",
    "y=df.Outcome\n",
    "x_train, x_test, y_train, y_test=train_test_split(X, y, test_size=0.25, random_state=21)\n",
    "from sklearn.ensemble import RandomForestClassifier\n",
    "rfc=RandomForestClassifier(random_state=15)\n",
    "rfc.fit(x_train, y_train)\n",
    "y_pred=rfc.predict(x_test)\n",
    "utils.evaluate(df,y_pred, y_test, 'Random Forest')"
   ]
  },
  {
   "cell_type": "code",
   "execution_count": 19,
   "id": "b424cafa",
   "metadata": {},
   "outputs": [
    {
     "data": {
      "text/plain": [
       "GridSearchCV(cv=5, estimator=RandomForestClassifier(random_state=15), n_jobs=-1,\n",
       "             param_grid={'criterion': ['entropy', 'gini'],\n",
       "                         'max_depth': range(5, 20, 5),\n",
       "                         'max_features': ['sqrt', 'log2'],\n",
       "                         'min_samples_leaf': range(1, 5),\n",
       "                         'min_samples_split': range(2, 10, 2),\n",
       "                         'n_estimators': [100, 200]},\n",
       "             return_train_score=True)"
      ]
     },
     "execution_count": 19,
     "metadata": {},
     "output_type": "execute_result"
    }
   ],
   "source": [
    "# OPTIMIZE THIS MODEL\n",
    "param_grid={\n",
    "    'n_estimators':[100,200],\n",
    "    'max_depth':range(5, 20, 5),\n",
    "    'min_samples_leaf':range(1,5,1),\n",
    "    'min_samples_split':range(2,10,2),\n",
    "    'max_features':['sqrt', 'log2'],\n",
    "    'criterion':['entropy', 'gini']\n",
    "}\n",
    "n_folds=5\n",
    "grid=GridSearchCV(estimator=rfc, param_grid=param_grid, cv=n_folds, n_jobs=-1, return_train_score=True)\n",
    "grid.fit(x_train, y_train)"
   ]
  },
  {
   "cell_type": "code",
   "execution_count": 20,
   "id": "464f84ff",
   "metadata": {},
   "outputs": [
    {
     "data": {
      "text/plain": [
       "0.7830584707646178"
      ]
     },
     "execution_count": 20,
     "metadata": {},
     "output_type": "execute_result"
    }
   ],
   "source": [
    "grid.best_score_"
   ]
  },
  {
   "cell_type": "code",
   "execution_count": 21,
   "id": "aeb3695c",
   "metadata": {},
   "outputs": [
    {
     "data": {
      "text/plain": [
       "{'criterion': 'entropy',\n",
       " 'max_depth': 5,\n",
       " 'max_features': 'sqrt',\n",
       " 'min_samples_leaf': 1,\n",
       " 'min_samples_split': 6,\n",
       " 'n_estimators': 100}"
      ]
     },
     "execution_count": 21,
     "metadata": {},
     "output_type": "execute_result"
    }
   ],
   "source": [
    "grid.best_params_"
   ]
  },
  {
   "cell_type": "code",
   "execution_count": 24,
   "id": "ba6e60d2",
   "metadata": {},
   "outputs": [
    {
     "data": {
      "text/plain": [
       "RandomForestClassifier(criterion='entropy', max_depth=5, max_features='sqrt',\n",
       "                       min_samples_split=6, random_state=15)"
      ]
     },
     "execution_count": 24,
     "metadata": {},
     "output_type": "execute_result"
    }
   ],
   "source": [
    "tuned_model"
   ]
  },
  {
   "cell_type": "code",
   "execution_count": 23,
   "id": "bf0ea8e9",
   "metadata": {},
   "outputs": [
    {
     "name": "stdout",
     "output_type": "stream",
     "text": [
      "Metrics for model Tuned RFC\n",
      "Accuracy score is  0.765625\n",
      "\n",
      "f1 score is  0.6153846153846154\n",
      "\n",
      "ROC-AUC score is  0.7714413341274567\n",
      "\n",
      "Classification Report is                precision    recall  f1-score   support\n",
      "\n",
      "           0       0.92      0.76      0.83       146\n",
      "           1       0.51      0.78      0.62        46\n",
      "\n",
      "    accuracy                           0.77       192\n",
      "   macro avg       0.71      0.77      0.72       192\n",
      "weighted avg       0.82      0.77      0.78       192\n",
      "\n",
      "\n"
     ]
    }
   ],
   "source": [
    "tuned_model=grid.best_estimator_\n",
    "tuned_model.fit(x_train, y_train)\n",
    "y_pred=tuned_model.predict(x_test)\n",
    "utils.evaluate(df, y_pred, y_test, 'Tuned RFC')"
   ]
  },
  {
   "cell_type": "code",
   "execution_count": 29,
   "id": "1d34c7ce",
   "metadata": {},
   "outputs": [
    {
     "data": {
      "image/png": "[encoded data removed]",
      "text/plain": [
       "<Figure size 576x338.4 with 1 Axes>"
      ]
     },
     "metadata": {
      "needs_background": "light"
     },
     "output_type": "display_data"
    }
   ],
   "source": [
    "# Model Interpratation\n",
    "import shap\n",
    "value=shap.TreeExplainer(tuned_model).shap_values(x_test)\n",
    "shap.summary_plot(value,x_train, plot_type='bar', feature_names=list(X.columns))"
   ]
  },
  {
   "cell_type": "markdown",
   "id": "fa178903",
   "metadata": {},
   "source": [
    "# Model automation and Deployment"
   ]
  },
  {
   "cell_type": "code",
   "execution_count": 31,
   "id": "bb72d455",
   "metadata": {},
   "outputs": [],
   "source": [
    "from pycaret.classification import *\n",
    "df=pd.read_csv(\"data/diabetes.csv\")\n"
   ]
  },
  {
   "cell_type": "code",
   "execution_count": 32,
   "id": "b69eb941",
   "metadata": {},
   "outputs": [
    {
     "data": {
      "text/html": [
       "<style type=\"text/css\">\n",
       "#T_6df98 th {\n",
       "  text-align: left;\n",
       "}\n",
       "#T_6df98_row0_col0, #T_6df98_row0_col2, #T_6df98_row0_col3, #T_6df98_row1_col0, #T_6df98_row1_col1, #T_6df98_row1_col2, #T_6df98_row1_col3, #T_6df98_row1_col4, #T_6df98_row1_col5, #T_6df98_row1_col6, #T_6df98_row1_col7, #T_6df98_row2_col0, #T_6df98_row2_col1, #T_6df98_row2_col4, #T_6df98_row2_col5, #T_6df98_row2_col6, #T_6df98_row2_col7, #T_6df98_row3_col0, #T_6df98_row3_col1, #T_6df98_row3_col2, #T_6df98_row3_col3, #T_6df98_row3_col4, #T_6df98_row3_col5, #T_6df98_row3_col6, #T_6df98_row3_col7, #T_6df98_row4_col0, #T_6df98_row4_col1, #T_6df98_row4_col2, #T_6df98_row4_col3, #T_6df98_row4_col4, #T_6df98_row4_col5, #T_6df98_row4_col6, #T_6df98_row4_col7, #T_6df98_row5_col0, #T_6df98_row5_col1, #T_6df98_row5_col2, #T_6df98_row5_col3, #T_6df98_row5_col4, #T_6df98_row5_col5, #T_6df98_row5_col6, #T_6df98_row5_col7, #T_6df98_row6_col0, #T_6df98_row6_col1, #T_6df98_row6_col2, #T_6df98_row6_col3, #T_6df98_row6_col4, #T_6df98_row6_col5, #T_6df98_row6_col6, #T_6df98_row6_col7, #T_6df98_row7_col0, #T_6df98_row7_col1, #T_6df98_row7_col2, #T_6df98_row7_col3, #T_6df98_row7_col4, #T_6df98_row7_col5, #T_6df98_row7_col6, #T_6df98_row7_col7, #T_6df98_row8_col0, #T_6df98_row8_col1, #T_6df98_row8_col2, #T_6df98_row8_col3, #T_6df98_row8_col4, #T_6df98_row8_col5, #T_6df98_row8_col6, #T_6df98_row8_col7, #T_6df98_row9_col0, #T_6df98_row9_col1, #T_6df98_row9_col2, #T_6df98_row9_col3, #T_6df98_row9_col4, #T_6df98_row9_col5, #T_6df98_row9_col6, #T_6df98_row9_col7, #T_6df98_row10_col0, #T_6df98_row10_col1, #T_6df98_row10_col2, #T_6df98_row10_col3, #T_6df98_row10_col4, #T_6df98_row10_col5, #T_6df98_row10_col6, #T_6df98_row10_col7, #T_6df98_row11_col0, #T_6df98_row11_col1, #T_6df98_row11_col2, #T_6df98_row11_col3, #T_6df98_row11_col4, #T_6df98_row11_col5, #T_6df98_row11_col6, #T_6df98_row11_col7, #T_6df98_row12_col0, #T_6df98_row12_col1, #T_6df98_row12_col2, #T_6df98_row12_col3, #T_6df98_row12_col4, #T_6df98_row12_col5, #T_6df98_row12_col6, #T_6df98_row12_col7, #T_6df98_row13_col0, #T_6df98_row13_col1, #T_6df98_row13_col2, #T_6df98_row13_col3, #T_6df98_row13_col4, #T_6df98_row13_col5, #T_6df98_row13_col6, #T_6df98_row13_col7 {\n",
       "  text-align: left;\n",
       "}\n",
       "#T_6df98_row0_col1, #T_6df98_row0_col4, #T_6df98_row0_col5, #T_6df98_row0_col6, #T_6df98_row0_col7, #T_6df98_row2_col2, #T_6df98_row2_col3 {\n",
       "  text-align: left;\n",
       "  background-color: yellow;\n",
       "}\n",
       "#T_6df98_row0_col8, #T_6df98_row1_col8, #T_6df98_row2_col8, #T_6df98_row3_col8, #T_6df98_row4_col8, #T_6df98_row5_col8, #T_6df98_row6_col8, #T_6df98_row7_col8, #T_6df98_row8_col8, #T_6df98_row10_col8, #T_6df98_row11_col8, #T_6df98_row12_col8, #T_6df98_row13_col8 {\n",
       "  text-align: left;\n",
       "  background-color: lightgrey;\n",
       "}\n",
       "#T_6df98_row9_col8 {\n",
       "  text-align: left;\n",
       "  background-color: yellow;\n",
       "  background-color: lightgrey;\n",
       "}\n",
       "</style>\n",
       "<table id=\"T_6df98\">\n",
       "  <thead>\n",
       "    <tr>\n",
       "      <th class=\"blank level0\" >&nbsp;</th>\n",
       "      <th id=\"T_6df98_level0_col0\" class=\"col_heading level0 col0\" >Model</th>\n",
       "      <th id=\"T_6df98_level0_col1\" class=\"col_heading level0 col1\" >Accuracy</th>\n",
       "      <th id=\"T_6df98_level0_col2\" class=\"col_heading level0 col2\" >AUC</th>\n",
       "      <th id=\"T_6df98_level0_col3\" class=\"col_heading level0 col3\" >Recall</th>\n",
       "      <th id=\"T_6df98_level0_col4\" class=\"col_heading level0 col4\" >Prec.</th>\n",
       "      <th id=\"T_6df98_level0_col5\" class=\"col_heading level0 col5\" >F1</th>\n",
       "      <th id=\"T_6df98_level0_col6\" class=\"col_heading level0 col6\" >Kappa</th>\n",
       "      <th id=\"T_6df98_level0_col7\" class=\"col_heading level0 col7\" >MCC</th>\n",
       "      <th id=\"T_6df98_level0_col8\" class=\"col_heading level0 col8\" >TT (Sec)</th>\n",
       "    </tr>\n",
       "  </thead>\n",
       "  <tbody>\n",
       "    <tr>\n",
       "      <th id=\"T_6df98_level0_row0\" class=\"row_heading level0 row0\" >lr</th>\n",
       "      <td id=\"T_6df98_row0_col0\" class=\"data row0 col0\" >Logistic Regression</td>\n",
       "      <td id=\"T_6df98_row0_col1\" class=\"data row0 col1\" >0.7804</td>\n",
       "      <td id=\"T_6df98_row0_col2\" class=\"data row0 col2\" >0.8237</td>\n",
       "      <td id=\"T_6df98_row0_col3\" class=\"data row0 col3\" >0.6124</td>\n",
       "      <td id=\"T_6df98_row0_col4\" class=\"data row0 col4\" >0.7276</td>\n",
       "      <td id=\"T_6df98_row0_col5\" class=\"data row0 col5\" >0.6618</td>\n",
       "      <td id=\"T_6df98_row0_col6\" class=\"data row0 col6\" >0.5017</td>\n",
       "      <td id=\"T_6df98_row0_col7\" class=\"data row0 col7\" >0.5080</td>\n",
       "      <td id=\"T_6df98_row0_col8\" class=\"data row0 col8\" >0.9860</td>\n",
       "    </tr>\n",
       "    <tr>\n",
       "      <th id=\"T_6df98_level0_row1\" class=\"row_heading level0 row1\" >ridge</th>\n",
       "      <td id=\"T_6df98_row1_col0\" class=\"data row1 col0\" >Ridge Classifier</td>\n",
       "      <td id=\"T_6df98_row1_col1\" class=\"data row1 col1\" >0.7673</td>\n",
       "      <td id=\"T_6df98_row1_col2\" class=\"data row1 col2\" >0.0000</td>\n",
       "      <td id=\"T_6df98_row1_col3\" class=\"data row1 col3\" >0.5758</td>\n",
       "      <td id=\"T_6df98_row1_col4\" class=\"data row1 col4\" >0.7172</td>\n",
       "      <td id=\"T_6df98_row1_col5\" class=\"data row1 col5\" >0.6352</td>\n",
       "      <td id=\"T_6df98_row1_col6\" class=\"data row1 col6\" >0.4682</td>\n",
       "      <td id=\"T_6df98_row1_col7\" class=\"data row1 col7\" >0.4768</td>\n",
       "      <td id=\"T_6df98_row1_col8\" class=\"data row1 col8\" >0.0200</td>\n",
       "    </tr>\n",
       "    <tr>\n",
       "      <th id=\"T_6df98_level0_row2\" class=\"row_heading level0 row2\" >gbc</th>\n",
       "      <td id=\"T_6df98_row2_col0\" class=\"data row2 col0\" >Gradient Boosting Classifier</td>\n",
       "      <td id=\"T_6df98_row2_col1\" class=\"data row2 col1\" >0.7655</td>\n",
       "      <td id=\"T_6df98_row2_col2\" class=\"data row2 col2\" >0.8350</td>\n",
       "      <td id=\"T_6df98_row2_col3\" class=\"data row2 col3\" >0.6282</td>\n",
       "      <td id=\"T_6df98_row2_col4\" class=\"data row2 col4\" >0.6939</td>\n",
       "      <td id=\"T_6df98_row2_col5\" class=\"data row2 col5\" >0.6544</td>\n",
       "      <td id=\"T_6df98_row2_col6\" class=\"data row2 col6\" >0.4782</td>\n",
       "      <td id=\"T_6df98_row2_col7\" class=\"data row2 col7\" >0.4835</td>\n",
       "      <td id=\"T_6df98_row2_col8\" class=\"data row2 col8\" >0.0710</td>\n",
       "    </tr>\n",
       "    <tr>\n",
       "      <th id=\"T_6df98_level0_row3\" class=\"row_heading level0 row3\" >lda</th>\n",
       "      <td id=\"T_6df98_row3_col0\" class=\"data row3 col0\" >Linear Discriminant Analysis</td>\n",
       "      <td id=\"T_6df98_row3_col1\" class=\"data row3 col1\" >0.7636</td>\n",
       "      <td id=\"T_6df98_row3_col2\" class=\"data row3 col2\" >0.8203</td>\n",
       "      <td id=\"T_6df98_row3_col3\" class=\"data row3 col3\" >0.5758</td>\n",
       "      <td id=\"T_6df98_row3_col4\" class=\"data row3 col4\" >0.7075</td>\n",
       "      <td id=\"T_6df98_row3_col5\" class=\"data row3 col5\" >0.6304</td>\n",
       "      <td id=\"T_6df98_row3_col6\" class=\"data row3 col6\" >0.4604</td>\n",
       "      <td id=\"T_6df98_row3_col7\" class=\"data row3 col7\" >0.4689</td>\n",
       "      <td id=\"T_6df98_row3_col8\" class=\"data row3 col8\" >0.0100</td>\n",
       "    </tr>\n",
       "    <tr>\n",
       "      <th id=\"T_6df98_level0_row4\" class=\"row_heading level0 row4\" >ada</th>\n",
       "      <td id=\"T_6df98_row4_col0\" class=\"data row4 col0\" >Ada Boost Classifier</td>\n",
       "      <td id=\"T_6df98_row4_col1\" class=\"data row4 col1\" >0.7600</td>\n",
       "      <td id=\"T_6df98_row4_col2\" class=\"data row4 col2\" >0.8225</td>\n",
       "      <td id=\"T_6df98_row4_col3\" class=\"data row4 col3\" >0.6174</td>\n",
       "      <td id=\"T_6df98_row4_col4\" class=\"data row4 col4\" >0.6697</td>\n",
       "      <td id=\"T_6df98_row4_col5\" class=\"data row4 col5\" >0.6371</td>\n",
       "      <td id=\"T_6df98_row4_col6\" class=\"data row4 col6\" >0.4599</td>\n",
       "      <td id=\"T_6df98_row4_col7\" class=\"data row4 col7\" >0.4649</td>\n",
       "      <td id=\"T_6df98_row4_col8\" class=\"data row4 col8\" >0.0590</td>\n",
       "    </tr>\n",
       "    <tr>\n",
       "      <th id=\"T_6df98_level0_row5\" class=\"row_heading level0 row5\" >rf</th>\n",
       "      <td id=\"T_6df98_row5_col0\" class=\"data row5 col0\" >Random Forest Classifier</td>\n",
       "      <td id=\"T_6df98_row5_col1\" class=\"data row5 col1\" >0.7432</td>\n",
       "      <td id=\"T_6df98_row5_col2\" class=\"data row5 col2\" >0.8142</td>\n",
       "      <td id=\"T_6df98_row5_col3\" class=\"data row5 col3\" >0.5658</td>\n",
       "      <td id=\"T_6df98_row5_col4\" class=\"data row5 col4\" >0.6634</td>\n",
       "      <td id=\"T_6df98_row5_col5\" class=\"data row5 col5\" >0.6063</td>\n",
       "      <td id=\"T_6df98_row5_col6\" class=\"data row5 col6\" >0.4189</td>\n",
       "      <td id=\"T_6df98_row5_col7\" class=\"data row5 col7\" >0.4246</td>\n",
       "      <td id=\"T_6df98_row5_col8\" class=\"data row5 col8\" >0.1410</td>\n",
       "    </tr>\n",
       "    <tr>\n",
       "      <th id=\"T_6df98_level0_row6\" class=\"row_heading level0 row6\" >lightgbm</th>\n",
       "      <td id=\"T_6df98_row6_col0\" class=\"data row6 col0\" >Light Gradient Boosting Machine</td>\n",
       "      <td id=\"T_6df98_row6_col1\" class=\"data row6 col1\" >0.7431</td>\n",
       "      <td id=\"T_6df98_row6_col2\" class=\"data row6 col2\" >0.8047</td>\n",
       "      <td id=\"T_6df98_row6_col3\" class=\"data row6 col3\" >0.6074</td>\n",
       "      <td id=\"T_6df98_row6_col4\" class=\"data row6 col4\" >0.6530</td>\n",
       "      <td id=\"T_6df98_row6_col5\" class=\"data row6 col5\" >0.6254</td>\n",
       "      <td id=\"T_6df98_row6_col6\" class=\"data row6 col6\" >0.4312</td>\n",
       "      <td id=\"T_6df98_row6_col7\" class=\"data row6 col7\" >0.4346</td>\n",
       "      <td id=\"T_6df98_row6_col8\" class=\"data row6 col8\" >0.0260</td>\n",
       "    </tr>\n",
       "    <tr>\n",
       "      <th id=\"T_6df98_level0_row7\" class=\"row_heading level0 row7\" >et</th>\n",
       "      <td id=\"T_6df98_row7_col0\" class=\"data row7 col0\" >Extra Trees Classifier</td>\n",
       "      <td id=\"T_6df98_row7_col1\" class=\"data row7 col1\" >0.7246</td>\n",
       "      <td id=\"T_6df98_row7_col2\" class=\"data row7 col2\" >0.7878</td>\n",
       "      <td id=\"T_6df98_row7_col3\" class=\"data row7 col3\" >0.5295</td>\n",
       "      <td id=\"T_6df98_row7_col4\" class=\"data row7 col4\" >0.6333</td>\n",
       "      <td id=\"T_6df98_row7_col5\" class=\"data row7 col5\" >0.5742</td>\n",
       "      <td id=\"T_6df98_row7_col6\" class=\"data row7 col6\" >0.3744</td>\n",
       "      <td id=\"T_6df98_row7_col7\" class=\"data row7 col7\" >0.3790</td>\n",
       "      <td id=\"T_6df98_row7_col8\" class=\"data row7 col8\" >0.1240</td>\n",
       "    </tr>\n",
       "    <tr>\n",
       "      <th id=\"T_6df98_level0_row8\" class=\"row_heading level0 row8\" >knn</th>\n",
       "      <td id=\"T_6df98_row8_col0\" class=\"data row8 col0\" >K Neighbors Classifier</td>\n",
       "      <td id=\"T_6df98_row8_col1\" class=\"data row8 col1\" >0.7057</td>\n",
       "      <td id=\"T_6df98_row8_col2\" class=\"data row8 col2\" >0.7422</td>\n",
       "      <td id=\"T_6df98_row8_col3\" class=\"data row8 col3\" >0.5342</td>\n",
       "      <td id=\"T_6df98_row8_col4\" class=\"data row8 col4\" >0.5901</td>\n",
       "      <td id=\"T_6df98_row8_col5\" class=\"data row8 col5\" >0.5561</td>\n",
       "      <td id=\"T_6df98_row8_col6\" class=\"data row8 col6\" >0.3387</td>\n",
       "      <td id=\"T_6df98_row8_col7\" class=\"data row8 col7\" >0.3422</td>\n",
       "      <td id=\"T_6df98_row8_col8\" class=\"data row8 col8\" >0.0200</td>\n",
       "    </tr>\n",
       "    <tr>\n",
       "      <th id=\"T_6df98_level0_row9\" class=\"row_heading level0 row9\" >dt</th>\n",
       "      <td id=\"T_6df98_row9_col0\" class=\"data row9 col0\" >Decision Tree Classifier</td>\n",
       "      <td id=\"T_6df98_row9_col1\" class=\"data row9 col1\" >0.7021</td>\n",
       "      <td id=\"T_6df98_row9_col2\" class=\"data row9 col2\" >0.6762</td>\n",
       "      <td id=\"T_6df98_row9_col3\" class=\"data row9 col3\" >0.5866</td>\n",
       "      <td id=\"T_6df98_row9_col4\" class=\"data row9 col4\" >0.5770</td>\n",
       "      <td id=\"T_6df98_row9_col5\" class=\"data row9 col5\" >0.5798</td>\n",
       "      <td id=\"T_6df98_row9_col6\" class=\"data row9 col6\" >0.3495</td>\n",
       "      <td id=\"T_6df98_row9_col7\" class=\"data row9 col7\" >0.3511</td>\n",
       "      <td id=\"T_6df98_row9_col8\" class=\"data row9 col8\" >0.0060</td>\n",
       "    </tr>\n",
       "    <tr>\n",
       "      <th id=\"T_6df98_level0_row10\" class=\"row_heading level0 row10\" >nb</th>\n",
       "      <td id=\"T_6df98_row10_col0\" class=\"data row10 col0\" >Naive Bayes</td>\n",
       "      <td id=\"T_6df98_row10_col1\" class=\"data row10 col1\" >0.6647</td>\n",
       "      <td id=\"T_6df98_row10_col2\" class=\"data row10 col2\" >0.7239</td>\n",
       "      <td id=\"T_6df98_row10_col3\" class=\"data row10 col3\" >0.1724</td>\n",
       "      <td id=\"T_6df98_row10_col4\" class=\"data row10 col4\" >0.5887</td>\n",
       "      <td id=\"T_6df98_row10_col5\" class=\"data row10 col5\" >0.2620</td>\n",
       "      <td id=\"T_6df98_row10_col6\" class=\"data row10 col6\" >0.1279</td>\n",
       "      <td id=\"T_6df98_row10_col7\" class=\"data row10 col7\" >0.1667</td>\n",
       "      <td id=\"T_6df98_row10_col8\" class=\"data row10 col8\" >0.0100</td>\n",
       "    </tr>\n",
       "    <tr>\n",
       "      <th id=\"T_6df98_level0_row11\" class=\"row_heading level0 row11\" >dummy</th>\n",
       "      <td id=\"T_6df98_row11_col0\" class=\"data row11 col0\" >Dummy Classifier</td>\n",
       "      <td id=\"T_6df98_row11_col1\" class=\"data row11 col1\" >0.6443</td>\n",
       "      <td id=\"T_6df98_row11_col2\" class=\"data row11 col2\" >0.5000</td>\n",
       "      <td id=\"T_6df98_row11_col3\" class=\"data row11 col3\" >0.0000</td>\n",
       "      <td id=\"T_6df98_row11_col4\" class=\"data row11 col4\" >0.0000</td>\n",
       "      <td id=\"T_6df98_row11_col5\" class=\"data row11 col5\" >0.0000</td>\n",
       "      <td id=\"T_6df98_row11_col6\" class=\"data row11 col6\" >0.0000</td>\n",
       "      <td id=\"T_6df98_row11_col7\" class=\"data row11 col7\" >0.0000</td>\n",
       "      <td id=\"T_6df98_row11_col8\" class=\"data row11 col8\" >0.0080</td>\n",
       "    </tr>\n",
       "    <tr>\n",
       "      <th id=\"T_6df98_level0_row12\" class=\"row_heading level0 row12\" >qda</th>\n",
       "      <td id=\"T_6df98_row12_col0\" class=\"data row12 col0\" >Quadratic Discriminant Analysis</td>\n",
       "      <td id=\"T_6df98_row12_col1\" class=\"data row12 col1\" >0.5723</td>\n",
       "      <td id=\"T_6df98_row12_col2\" class=\"data row12 col2\" >0.5567</td>\n",
       "      <td id=\"T_6df98_row12_col3\" class=\"data row12 col3\" >0.3674</td>\n",
       "      <td id=\"T_6df98_row12_col4\" class=\"data row12 col4\" >0.4229</td>\n",
       "      <td id=\"T_6df98_row12_col5\" class=\"data row12 col5\" >0.3169</td>\n",
       "      <td id=\"T_6df98_row12_col6\" class=\"data row12 col6\" >0.0547</td>\n",
       "      <td id=\"T_6df98_row12_col7\" class=\"data row12 col7\" >0.0825</td>\n",
       "      <td id=\"T_6df98_row12_col8\" class=\"data row12 col8\" >0.0120</td>\n",
       "    </tr>\n",
       "    <tr>\n",
       "      <th id=\"T_6df98_level0_row13\" class=\"row_heading level0 row13\" >svm</th>\n",
       "      <td id=\"T_6df98_row13_col0\" class=\"data row13 col0\" >SVM - Linear Kernel</td>\n",
       "      <td id=\"T_6df98_row13_col1\" class=\"data row13 col1\" >0.5658</td>\n",
       "      <td id=\"T_6df98_row13_col2\" class=\"data row13 col2\" >0.0000</td>\n",
       "      <td id=\"T_6df98_row13_col3\" class=\"data row13 col3\" >0.6032</td>\n",
       "      <td id=\"T_6df98_row13_col4\" class=\"data row13 col4\" >0.4864</td>\n",
       "      <td id=\"T_6df98_row13_col5\" class=\"data row13 col5\" >0.4554</td>\n",
       "      <td id=\"T_6df98_row13_col6\" class=\"data row13 col6\" >0.1436</td>\n",
       "      <td id=\"T_6df98_row13_col7\" class=\"data row13 col7\" >0.1932</td>\n",
       "      <td id=\"T_6df98_row13_col8\" class=\"data row13 col8\" >0.0110</td>\n",
       "    </tr>\n",
       "  </tbody>\n",
       "</table>\n"
      ],
      "text/plain": [
       "<pandas.io.formats.style.Styler at 0x15e5466e880>"
      ]
     },
     "metadata": {},
     "output_type": "display_data"
    }
   ],
   "source": [
    "# init setup\n",
    "from pycaret.classification import *\n",
    "clf1 = setup(data = df, target = 'Outcome')\n",
    "\n",
    "# compare models\n",
    "best = compare_models()"
   ]
  },
  {
   "cell_type": "code",
   "execution_count": 33,
   "id": "5331e549",
   "metadata": {},
   "outputs": [
    {
     "data": {
      "text/html": [
       "<style type=\"text/css\">\n",
       "#T_dbc1c_row10_col0, #T_dbc1c_row10_col1, #T_dbc1c_row10_col2, #T_dbc1c_row10_col3, #T_dbc1c_row10_col4, #T_dbc1c_row10_col5, #T_dbc1c_row10_col6 {\n",
       "  background: yellow;\n",
       "}\n",
       "</style>\n",
       "<table id=\"T_dbc1c\">\n",
       "  <thead>\n",
       "    <tr>\n",
       "      <th class=\"blank level0\" >&nbsp;</th>\n",
       "      <th id=\"T_dbc1c_level0_col0\" class=\"col_heading level0 col0\" >Accuracy</th>\n",
       "      <th id=\"T_dbc1c_level0_col1\" class=\"col_heading level0 col1\" >AUC</th>\n",
       "      <th id=\"T_dbc1c_level0_col2\" class=\"col_heading level0 col2\" >Recall</th>\n",
       "      <th id=\"T_dbc1c_level0_col3\" class=\"col_heading level0 col3\" >Prec.</th>\n",
       "      <th id=\"T_dbc1c_level0_col4\" class=\"col_heading level0 col4\" >F1</th>\n",
       "      <th id=\"T_dbc1c_level0_col5\" class=\"col_heading level0 col5\" >Kappa</th>\n",
       "      <th id=\"T_dbc1c_level0_col6\" class=\"col_heading level0 col6\" >MCC</th>\n",
       "    </tr>\n",
       "    <tr>\n",
       "      <th class=\"index_name level0\" >Fold</th>\n",
       "      <th class=\"blank col0\" >&nbsp;</th>\n",
       "      <th class=\"blank col1\" >&nbsp;</th>\n",
       "      <th class=\"blank col2\" >&nbsp;</th>\n",
       "      <th class=\"blank col3\" >&nbsp;</th>\n",
       "      <th class=\"blank col4\" >&nbsp;</th>\n",
       "      <th class=\"blank col5\" >&nbsp;</th>\n",
       "      <th class=\"blank col6\" >&nbsp;</th>\n",
       "    </tr>\n",
       "  </thead>\n",
       "  <tbody>\n",
       "    <tr>\n",
       "      <th id=\"T_dbc1c_level0_row0\" class=\"row_heading level0 row0\" >0</th>\n",
       "      <td id=\"T_dbc1c_row0_col0\" class=\"data row0 col0\" >0.6296</td>\n",
       "      <td id=\"T_dbc1c_row0_col1\" class=\"data row0 col1\" >0.7519</td>\n",
       "      <td id=\"T_dbc1c_row0_col2\" class=\"data row0 col2\" >0.4211</td>\n",
       "      <td id=\"T_dbc1c_row0_col3\" class=\"data row0 col3\" >0.4706</td>\n",
       "      <td id=\"T_dbc1c_row0_col4\" class=\"data row0 col4\" >0.4444</td>\n",
       "      <td id=\"T_dbc1c_row0_col5\" class=\"data row0 col5\" >0.1680</td>\n",
       "      <td id=\"T_dbc1c_row0_col6\" class=\"data row0 col6\" >0.1685</td>\n",
       "    </tr>\n",
       "    <tr>\n",
       "      <th id=\"T_dbc1c_level0_row1\" class=\"row_heading level0 row1\" >1</th>\n",
       "      <td id=\"T_dbc1c_row1_col0\" class=\"data row1 col0\" >0.7593</td>\n",
       "      <td id=\"T_dbc1c_row1_col1\" class=\"data row1 col1\" >0.8353</td>\n",
       "      <td id=\"T_dbc1c_row1_col2\" class=\"data row1 col2\" >0.4737</td>\n",
       "      <td id=\"T_dbc1c_row1_col3\" class=\"data row1 col3\" >0.7500</td>\n",
       "      <td id=\"T_dbc1c_row1_col4\" class=\"data row1 col4\" >0.5806</td>\n",
       "      <td id=\"T_dbc1c_row1_col5\" class=\"data row1 col5\" >0.4236</td>\n",
       "      <td id=\"T_dbc1c_row1_col6\" class=\"data row1 col6\" >0.4456</td>\n",
       "    </tr>\n",
       "    <tr>\n",
       "      <th id=\"T_dbc1c_level0_row2\" class=\"row_heading level0 row2\" >2</th>\n",
       "      <td id=\"T_dbc1c_row2_col0\" class=\"data row2 col0\" >0.7778</td>\n",
       "      <td id=\"T_dbc1c_row2_col1\" class=\"data row2 col1\" >0.8030</td>\n",
       "      <td id=\"T_dbc1c_row2_col2\" class=\"data row2 col2\" >0.6316</td>\n",
       "      <td id=\"T_dbc1c_row2_col3\" class=\"data row2 col3\" >0.7059</td>\n",
       "      <td id=\"T_dbc1c_row2_col4\" class=\"data row2 col4\" >0.6667</td>\n",
       "      <td id=\"T_dbc1c_row2_col5\" class=\"data row2 col5\" >0.5008</td>\n",
       "      <td id=\"T_dbc1c_row2_col6\" class=\"data row2 col6\" >0.5025</td>\n",
       "    </tr>\n",
       "    <tr>\n",
       "      <th id=\"T_dbc1c_level0_row3\" class=\"row_heading level0 row3\" >3</th>\n",
       "      <td id=\"T_dbc1c_row3_col0\" class=\"data row3 col0\" >0.8148</td>\n",
       "      <td id=\"T_dbc1c_row3_col1\" class=\"data row3 col1\" >0.8962</td>\n",
       "      <td id=\"T_dbc1c_row3_col2\" class=\"data row3 col2\" >0.7895</td>\n",
       "      <td id=\"T_dbc1c_row3_col3\" class=\"data row3 col3\" >0.7143</td>\n",
       "      <td id=\"T_dbc1c_row3_col4\" class=\"data row3 col4\" >0.7500</td>\n",
       "      <td id=\"T_dbc1c_row3_col5\" class=\"data row3 col5\" >0.6035</td>\n",
       "      <td id=\"T_dbc1c_row3_col6\" class=\"data row3 col6\" >0.6054</td>\n",
       "    </tr>\n",
       "    <tr>\n",
       "      <th id=\"T_dbc1c_level0_row4\" class=\"row_heading level0 row4\" >4</th>\n",
       "      <td id=\"T_dbc1c_row4_col0\" class=\"data row4 col0\" >0.7037</td>\n",
       "      <td id=\"T_dbc1c_row4_col1\" class=\"data row4 col1\" >0.7406</td>\n",
       "      <td id=\"T_dbc1c_row4_col2\" class=\"data row4 col2\" >0.5789</td>\n",
       "      <td id=\"T_dbc1c_row4_col3\" class=\"data row4 col3\" >0.5789</td>\n",
       "      <td id=\"T_dbc1c_row4_col4\" class=\"data row4 col4\" >0.5789</td>\n",
       "      <td id=\"T_dbc1c_row4_col5\" class=\"data row4 col5\" >0.3504</td>\n",
       "      <td id=\"T_dbc1c_row4_col6\" class=\"data row4 col6\" >0.3504</td>\n",
       "    </tr>\n",
       "    <tr>\n",
       "      <th id=\"T_dbc1c_level0_row5\" class=\"row_heading level0 row5\" >5</th>\n",
       "      <td id=\"T_dbc1c_row5_col0\" class=\"data row5 col0\" >0.7037</td>\n",
       "      <td id=\"T_dbc1c_row5_col1\" class=\"data row5 col1\" >0.7338</td>\n",
       "      <td id=\"T_dbc1c_row5_col2\" class=\"data row5 col2\" >0.4211</td>\n",
       "      <td id=\"T_dbc1c_row5_col3\" class=\"data row5 col3\" >0.6154</td>\n",
       "      <td id=\"T_dbc1c_row5_col4\" class=\"data row5 col4\" >0.5000</td>\n",
       "      <td id=\"T_dbc1c_row5_col5\" class=\"data row5 col5\" >0.2998</td>\n",
       "      <td id=\"T_dbc1c_row5_col6\" class=\"data row5 col6\" >0.3107</td>\n",
       "    </tr>\n",
       "    <tr>\n",
       "      <th id=\"T_dbc1c_level0_row6\" class=\"row_heading level0 row6\" >6</th>\n",
       "      <td id=\"T_dbc1c_row6_col0\" class=\"data row6 col0\" >0.7222</td>\n",
       "      <td id=\"T_dbc1c_row6_col1\" class=\"data row6 col1\" >0.8412</td>\n",
       "      <td id=\"T_dbc1c_row6_col2\" class=\"data row6 col2\" >0.5000</td>\n",
       "      <td id=\"T_dbc1c_row6_col3\" class=\"data row6 col3\" >0.6667</td>\n",
       "      <td id=\"T_dbc1c_row6_col4\" class=\"data row6 col4\" >0.5714</td>\n",
       "      <td id=\"T_dbc1c_row6_col5\" class=\"data row6 col5\" >0.3721</td>\n",
       "      <td id=\"T_dbc1c_row6_col6\" class=\"data row6 col6\" >0.3805</td>\n",
       "    </tr>\n",
       "    <tr>\n",
       "      <th id=\"T_dbc1c_level0_row7\" class=\"row_heading level0 row7\" >7</th>\n",
       "      <td id=\"T_dbc1c_row7_col0\" class=\"data row7 col0\" >0.7547</td>\n",
       "      <td id=\"T_dbc1c_row7_col1\" class=\"data row7 col1\" >0.8390</td>\n",
       "      <td id=\"T_dbc1c_row7_col2\" class=\"data row7 col2\" >0.5263</td>\n",
       "      <td id=\"T_dbc1c_row7_col3\" class=\"data row7 col3\" >0.7143</td>\n",
       "      <td id=\"T_dbc1c_row7_col4\" class=\"data row7 col4\" >0.6061</td>\n",
       "      <td id=\"T_dbc1c_row7_col5\" class=\"data row7 col5\" >0.4339</td>\n",
       "      <td id=\"T_dbc1c_row7_col6\" class=\"data row7 col6\" >0.4445</td>\n",
       "    </tr>\n",
       "    <tr>\n",
       "      <th id=\"T_dbc1c_level0_row8\" class=\"row_heading level0 row8\" >8</th>\n",
       "      <td id=\"T_dbc1c_row8_col0\" class=\"data row8 col0\" >0.6604</td>\n",
       "      <td id=\"T_dbc1c_row8_col1\" class=\"data row8 col1\" >0.7330</td>\n",
       "      <td id=\"T_dbc1c_row8_col2\" class=\"data row8 col2\" >0.4737</td>\n",
       "      <td id=\"T_dbc1c_row8_col3\" class=\"data row8 col3\" >0.5294</td>\n",
       "      <td id=\"T_dbc1c_row8_col4\" class=\"data row8 col4\" >0.5000</td>\n",
       "      <td id=\"T_dbc1c_row8_col5\" class=\"data row8 col5\" >0.2441</td>\n",
       "      <td id=\"T_dbc1c_row8_col6\" class=\"data row8 col6\" >0.2449</td>\n",
       "    </tr>\n",
       "    <tr>\n",
       "      <th id=\"T_dbc1c_level0_row9\" class=\"row_heading level0 row9\" >9</th>\n",
       "      <td id=\"T_dbc1c_row9_col0\" class=\"data row9 col0\" >0.9057</td>\n",
       "      <td id=\"T_dbc1c_row9_col1\" class=\"data row9 col1\" >0.9683</td>\n",
       "      <td id=\"T_dbc1c_row9_col2\" class=\"data row9 col2\" >0.8421</td>\n",
       "      <td id=\"T_dbc1c_row9_col3\" class=\"data row9 col3\" >0.8889</td>\n",
       "      <td id=\"T_dbc1c_row9_col4\" class=\"data row9 col4\" >0.8649</td>\n",
       "      <td id=\"T_dbc1c_row9_col5\" class=\"data row9 col5\" >0.7925</td>\n",
       "      <td id=\"T_dbc1c_row9_col6\" class=\"data row9 col6\" >0.7932</td>\n",
       "    </tr>\n",
       "    <tr>\n",
       "      <th id=\"T_dbc1c_level0_row10\" class=\"row_heading level0 row10\" >Mean</th>\n",
       "      <td id=\"T_dbc1c_row10_col0\" class=\"data row10 col0\" >0.7432</td>\n",
       "      <td id=\"T_dbc1c_row10_col1\" class=\"data row10 col1\" >0.8142</td>\n",
       "      <td id=\"T_dbc1c_row10_col2\" class=\"data row10 col2\" >0.5658</td>\n",
       "      <td id=\"T_dbc1c_row10_col3\" class=\"data row10 col3\" >0.6634</td>\n",
       "      <td id=\"T_dbc1c_row10_col4\" class=\"data row10 col4\" >0.6063</td>\n",
       "      <td id=\"T_dbc1c_row10_col5\" class=\"data row10 col5\" >0.4189</td>\n",
       "      <td id=\"T_dbc1c_row10_col6\" class=\"data row10 col6\" >0.4246</td>\n",
       "    </tr>\n",
       "    <tr>\n",
       "      <th id=\"T_dbc1c_level0_row11\" class=\"row_heading level0 row11\" >Std</th>\n",
       "      <td id=\"T_dbc1c_row11_col0\" class=\"data row11 col0\" >0.0751</td>\n",
       "      <td id=\"T_dbc1c_row11_col1\" class=\"data row11 col1\" >0.0740</td>\n",
       "      <td id=\"T_dbc1c_row11_col2\" class=\"data row11 col2\" >0.1399</td>\n",
       "      <td id=\"T_dbc1c_row11_col3\" class=\"data row11 col3\" >0.1140</td>\n",
       "      <td id=\"T_dbc1c_row11_col4\" class=\"data row11 col4\" >0.1194</td>\n",
       "      <td id=\"T_dbc1c_row11_col5\" class=\"data row11 col5\" >0.1718</td>\n",
       "      <td id=\"T_dbc1c_row11_col6\" class=\"data row11 col6\" >0.1714</td>\n",
       "    </tr>\n",
       "  </tbody>\n",
       "</table>\n"
      ],
      "text/plain": [
       "<pandas.io.formats.style.Styler at 0x15e547ea130>"
      ]
     },
     "metadata": {},
     "output_type": "display_data"
    }
   ],
   "source": [
    "model=create_model('rf')"
   ]
  },
  {
   "cell_type": "code",
   "execution_count": 35,
   "id": "e9fd3cdd",
   "metadata": {},
   "outputs": [
    {
     "name": "stdout",
     "output_type": "stream",
     "text": [
      "Transformation Pipeline and Model Successfully Saved\n"
     ]
    },
    {
     "data": {
      "text/plain": [
       "(Pipeline(memory=None,\n",
       "          steps=[('dtypes',\n",
       "                  DataTypes_Auto_infer(categorical_features=[],\n",
       "                                       display_types=True, features_todrop=[],\n",
       "                                       id_columns=[],\n",
       "                                       ml_usecase='classification',\n",
       "                                       numerical_features=[], target='Outcome',\n",
       "                                       time_features=[])),\n",
       "                 ('imputer',\n",
       "                  Simple_Imputer(categorical_strategy='not_available',\n",
       "                                 fill_value_categorical=None,\n",
       "                                 fill_value_numerical=None,\n",
       "                                 numeric_stra...\n",
       "                  RandomForestClassifier(bootstrap=True, ccp_alpha=0.0,\n",
       "                                         class_weight=None, criterion='gini',\n",
       "                                         max_depth=None, max_features='auto',\n",
       "                                         max_leaf_nodes=None, max_samples=None,\n",
       "                                         min_impurity_decrease=0.0,\n",
       "                                         min_impurity_split=None,\n",
       "                                         min_samples_leaf=1, min_samples_split=2,\n",
       "                                         min_weight_fraction_leaf=0.0,\n",
       "                                         n_estimators=100, n_jobs=-1,\n",
       "                                         oob_score=False, random_state=3806,\n",
       "                                         verbose=0, warm_start=False)]],\n",
       "          verbose=False),\n",
       " 'rf.pkl')"
      ]
     },
     "execution_count": 35,
     "metadata": {},
     "output_type": "execute_result"
    }
   ],
   "source": [
    "save_model(model, 'rf')"
   ]
  },
  {
   "cell_type": "code",
   "execution_count": 36,
   "id": "e490e692",
   "metadata": {},
   "outputs": [
    {
     "data": {
      "text/plain": [
       "Index(['Pregnancies', 'Glucose', 'BloodPressure', 'SkinThickness', 'Insulin',\n",
       "       'BMI', 'DiabetesPedigreeFunction', 'Age', 'Outcome'],\n",
       "      dtype='object')"
      ]
     },
     "execution_count": 36,
     "metadata": {},
     "output_type": "execute_result"
    }
   ],
   "source": [
    "df.columns"
   ]
  },
  {
   "cell_type": "code",
   "execution_count": 47,
   "id": "265d7e92",
   "metadata": {},
   "outputs": [
    {
     "name": "stdout",
     "output_type": "stream",
     "text": [
      "Overwriting app.py\n"
     ]
    }
   ],
   "source": [
    "%%writefile app.py\n",
    "import streamlit as st\n",
    "import pandas as pd\n",
    "from pycaret.classification import load_model, predict_model\n",
    "\n",
    "model=load_model('rf')\n",
    "\n",
    "st.title(\"app to check if a patient has diabetes\")\n",
    "\n",
    "# crete the frontend user interface\n",
    "preg=st.number_input('Pregnancies', min_value=0)\n",
    "glucose=st.slider('Glucose',min_value=0.0, max_value=200.0)\n",
    "bp=st.slider('BloodPressure',min_value=0.0, max_value=200.0)\n",
    "skin=st.slider('SkinThickness',min_value=0.0, max_value=20.0)\n",
    "insulin=st.slider('Insulin',min_value=0.0, max_value=200.0)\n",
    "bmi=st.slider('BMI',min_value=0.0, max_value=50.0)\n",
    "dbf=st.slider('DiabetesPedigreeFunction',min_value=0.0 ,max_value=10.0)\n",
    "age=st.slider('Age', min_value=20.0, max_value=100.0)\n",
    "\n",
    "\n",
    "input_data={\n",
    "    'Pregnancies':preg,\n",
    "    'Glucose':glucose,\n",
    "    'BloodPressure':bp,\n",
    "    'SkinThickness':skin,\n",
    "    'Insulin':insulin,\n",
    "    'BMI':bmi,\n",
    "    'DiabetesPedigreeFunction':dbf,\n",
    "    'Age':age\n",
    "    \n",
    "}\n",
    "\n",
    "input_data=pd.DataFrame([input_data])\n",
    "st.write(input_data)\n",
    "\n",
    "prediction=predict_model(model, input_data)\n",
    "predicted_outcome=prediction['Label'][0]\n",
    "output=str(predicted_outcome)\n",
    "if st.button('Predict'):\n",
    "    if output=='1':\n",
    "        st.success('this person has diabetes')\n",
    "    else:\n",
    "        st.success(\"NO Diabetes\")"
   ]
  },
  {
   "cell_type": "code",
   "execution_count": null,
   "id": "e58f5287",
   "metadata": {},
   "outputs": [],
   "source": []
  }
 ],
 "metadata": {
  "kernelspec": {
   "display_name": "Python 3 (ipykernel)",
   "language": "python",
   "name": "python3"
  },
  "language_info": {
   "codemirror_mode": {
    "name": "ipython",
    "version": 3
   },
   "file_extension": ".py",
   "mimetype": "text/x-python",
   "name": "python",
   "nbconvert_exporter": "python",
   "pygments_lexer": "ipython3",
   "version": "3.8.13"
  }
 },
 "nbformat": 4,
 "nbformat_minor": 5
}
